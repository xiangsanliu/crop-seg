{
 "cells": [
  {
   "cell_type": "code",
   "execution_count": 1,
   "metadata": {},
   "outputs": [],
   "source": [
    "\n",
    "import numpy as np\n",
    "import matplotlib.pyplot as plt\n",
    "from PIL import Image\n",
    "import cv2\n",
    "import os"
   ]
  },
  {
   "cell_type": "code",
   "execution_count": 12,
   "metadata": {},
   "outputs": [],
   "source": [
    "def convert(img):\n",
    "    anno_map = np.asarray(img)\n",
    "    anno_map[anno_map == 4] = 4\n",
    "\n",
    "    R = anno_map.copy()   # 红色通道\n",
    "    R[R == 1] = 0\n",
    "    R[R == 2] = 0\n",
    "    R[R == 3] = 255\n",
    "\n",
    "    G = anno_map.copy()   # 绿色通道\n",
    "    G[G == 1] = 0\n",
    "    G[G == 2] = 255\n",
    "    G[G == 3] = 0\n",
    "\n",
    "    B = anno_map.copy()   # 蓝色通道\n",
    "    B[B == 1] = 255\n",
    "    B[B == 2] = 0\n",
    "    B[B == 3] = 0\n",
    "    return np.dstack((R,G,B))"
   ]
  },
  {
   "cell_type": "code",
   "execution_count": 18,
   "metadata": {},
   "outputs": [
    {
     "data": {
      "text/plain": [
       "<matplotlib.image.AxesImage at 0x7f466e5e29d0>"
      ]
     },
     "execution_count": 18,
     "metadata": {},
     "output_type": "execute_result"
    },
    {
     "data": {
      "image/png": "[encoded data removed]",
      "text/plain": [
       "<Figure size 432x288 with 1 Axes>"
      ]
     },
     "metadata": {
      "needs_background": "light"
     },
     "output_type": "display_data"
    }
   ],
   "source": [
    "img_name = \"image_11_1101.png\"\n",
    "img = os.path.join(\"dataset/tianchi/round2/label/\", img_name)\n",
    "img = Image.open(img).resize((256, 256), Image.NEAREST)\n",
    "img = convert(img)\n",
    "cv2.imwrite(img_name, img)\n",
    "plt.imshow(img)"
   ]
  }
 ],
 "metadata": {
  "interpreter": {
   "hash": "9ed70208bb8ef2fba028a67cdad176b6d0ad99a495b6a4fdc7ae902401be205f"
  },
  "kernelspec": {
   "display_name": "Python 3.7.11 64-bit ('torch-1.8.1': conda)",
   "name": "python3"
  },
  "language_info": {
   "codemirror_mode": {
    "name": "ipython",
    "version": 3
   },
   "file_extension": ".py",
   "mimetype": "text/x-python",
   "name": "python",
   "nbconvert_exporter": "python",
   "pygments_lexer": "ipython3",
   "version": "3.7.11"
  },
  "orig_nbformat": 4
 },
 "nbformat": 4,
 "nbformat_minor": 2
}
