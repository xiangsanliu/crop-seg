{
 "cells": [
  {
   "cell_type": "code",
   "execution_count": null,
   "source": [
    "from mmseg.apis import inference_segmentor, init_segmentor\n",
    "import mmcv\n",
    "\n",
    "config_file = 'configs/pspnet/pspnet_r50-d8_512x1024_40k_cityscapes.py'\n",
    "checkpoint_file = 'checkpoints/pspnet_r50-d8_512x1024_40k_cityscapes_20200605_003338-2966598c.pth'\n",
    "\n",
    "# 从一个 config 配置文件和 checkpoint 文件里创建分割模型\n",
    "model = init_segmentor(config_file, checkpoint_file, device='cuda:0')\n",
    "\n",
    "# 测试一张样例图片并得到结果\n",
    "img = 'test.jpg'  # 或者 img = mmcv.imread(img), 这将只加载图像一次．\n",
    "result = inference_segmentor(model, img)\n",
    "# 在新的窗口里可视化结果\n",
    "model.show_result(img, result, show=True)\n",
    "# 或者保存图片文件的可视化结果\n",
    "# 您可以改变 segmentation map 的不透明度(opacity)，在(0, 1]之间。\n",
    "model.show_result(img, result, out_file='result.jpg', opacity=0.5)\n",
    "\n",
    "# 测试一个视频并得到分割结果\n",
    "video = mmcv.VideoReader('video.mp4')\n",
    "for frame in video:\n",
    "   result = inference_segmentor(model, frame)\n",
    "   model.show_result(frame, result, wait_time=1)"
   ],
   "outputs": [],
   "metadata": {}
  }
 ],
 "metadata": {
  "orig_nbformat": 4,
  "language_info": {
   "name": "python"
  }
 },
 "nbformat": 4,
 "nbformat_minor": 2
}